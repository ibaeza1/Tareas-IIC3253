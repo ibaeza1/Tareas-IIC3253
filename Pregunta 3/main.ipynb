{
 "cells": [
  {
   "cell_type": "code",
   "execution_count": 53,
   "metadata": {},
   "outputs": [],
   "source": [
    "\n",
    "from collections import deque\n",
    "import hashlib"
   ]
  },
  {
   "cell_type": "code",
   "execution_count": 91,
   "metadata": {},
   "outputs": [],
   "source": [
    "def hash_function(value):\n",
    "    return hashlib.sha256(value.encode(\"utf-8\")).hexdigest()"
   ]
  },
  {
   "cell_type": "code",
   "execution_count": 115,
   "metadata": {},
   "outputs": [
    {
     "data": {
      "text/plain": [
       "<__main__.Nodo at 0x110d13c10>"
      ]
     },
     "execution_count": 115,
     "metadata": {},
     "output_type": "execute_result"
    }
   ],
   "source": [
    "class Nodo():\n",
    "    def __init__(self):\n",
    "\n",
    "        self.hash = None\n",
    "        self.is_leaf = False\n",
    "        self.left_child = None\n",
    "        self.right_child = None\n",
    "        self.parent = None\n",
    "        self.value = 0\n",
    "        self.next_leaf = None\n",
    "\n",
    "\n",
    "def insert(altura):\n",
    "    count = 0\n",
    "    value = 0\n",
    "    root = Nodo()\n",
    "    cola = []\n",
    "    cola.append(root)\n",
    "    hojas = []\n",
    "    # print(cola)\n",
    "    while count <= altura:\n",
    "        if count == altura:\n",
    "            for i in cola:\n",
    "                i.left_child = None\n",
    "                i.right_child = None\n",
    "                i.is_leaf = True\n",
    "                i.value = value\n",
    "                value += 1\n",
    "            for i in range(len(cola)):\n",
    "                if i < len(cola)-1:\n",
    "                    cola[i].next_leaf = cola[i+1]\n",
    "            for i in cola:\n",
    "                hojas.append(i)\n",
    "            break\n",
    "        else:\n",
    "            cola_aux = []\n",
    "            for i in cola:\n",
    "                i.left_child = Nodo()\n",
    "                i.right_child = Nodo()\n",
    "                i.left_child.parent = i\n",
    "                i.right_child.parent = i\n",
    "                i.is_leaf = False\n",
    "                i.value = value\n",
    "                value += 1\n",
    "                cola_aux.append(i.left_child)\n",
    "                cola_aux.append(i.right_child)\n",
    "            for i in range(len(cola)):\n",
    "                if i < len(cola)-1:\n",
    "                    cola[i].next_leaf = cola[i+1]\n",
    "            cola = cola_aux\n",
    "            # print(cola)\n",
    "        count += 1\n",
    "    return hojas\n",
    "\n",
    "hojas = insert(2)\n",
    "# print(root.left_child.parent.value)\n",
    "\n",
    "strings = ['hola','como','estas','?']\n",
    "\n",
    "\n",
    "\n",
    "def hashear(hojas,strings,altura,hash):\n",
    "    value = strings[-1]\n",
    "    for i in range(len(hojas)):\n",
    "        if i >= len(strings):\n",
    "            hojas[i].hash = hash(value)\n",
    "        else:\n",
    "            hojas[i].hash = hash(strings[i])\n",
    "\n",
    "    cola = []\n",
    "    for i in hojas:\n",
    "        cola.append(i.parent)\n",
    "    count = 0\n",
    "    while count <= altura-1:\n",
    "        if count == altura-1:\n",
    "            for i in cola:\n",
    "                # print('root',i)\n",
    "                i.hash = hash(i.left_child.hash + i.right_child.hash)\n",
    "            break\n",
    "        else:\n",
    "            cola_aux = []\n",
    "            for i in cola:\n",
    "                # print(i)\n",
    "                i.hash = hash(i.left_child.hash + i.right_child.hash)\n",
    "                # print(i.hash)\n",
    "                cola_aux.append(i.parent)\n",
    "            cola = cola_aux\n",
    "        count += 1\n",
    "    return hojas\n",
    "\n",
    "def get_root(hojas,altura):\n",
    "    count = 0\n",
    "    cola = [hojas[0]]\n",
    "    while count <= altura:\n",
    "        if count == altura:\n",
    "            # print(cola[0])\n",
    "            return cola[0]\n",
    "        else:\n",
    "            cola_aux = []\n",
    "            cola_aux.append(cola[0].parent)\n",
    "            cola = cola_aux\n",
    "        count += 1\n",
    "\n",
    "\n",
    "\n",
    "hojas = hashear(hojas,strings,2,hash_function)\n",
    "# print(hojas)\n",
    "# for i in hojas:\n",
    "#     print(i.hash,'- ',i.parent.hash)\n",
    "\n",
    "get_root(hojas,2)\n",
    "\n",
    "\n"
   ]
  },
  {
   "cell_type": "code",
   "execution_count": null,
   "metadata": {},
   "outputs": [],
   "source": []
  },
  {
   "cell_type": "code",
   "execution_count": null,
   "metadata": {},
   "outputs": [],
   "source": []
  }
 ],
 "metadata": {
  "interpreter": {
   "hash": "aee8b7b246df8f9039afb4144a1f6fd8d2ca17a180786b69acc140d282b71a49"
  },
  "kernelspec": {
   "display_name": "Python 3.10.4 64-bit",
   "language": "python",
   "name": "python3"
  },
  "language_info": {
   "codemirror_mode": {
    "name": "ipython",
    "version": 3
   },
   "file_extension": ".py",
   "mimetype": "text/x-python",
   "name": "python",
   "nbconvert_exporter": "python",
   "pygments_lexer": "ipython3",
   "version": "3.10.4"
  },
  "orig_nbformat": 4
 },
 "nbformat": 4,
 "nbformat_minor": 2
}
