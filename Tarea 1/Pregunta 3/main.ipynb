{
 "cells": [
  {
   "cell_type": "code",
   "execution_count": 1,
   "metadata": {},
   "outputs": [],
   "source": [
    "\n",
    "from collections import deque\n",
    "import hashlib"
   ]
  },
  {
   "cell_type": "code",
   "execution_count": 2,
   "metadata": {},
   "outputs": [],
   "source": [
    "def hash_function(value):\n",
    "    return hashlib.sha256(value.encode(\"utf-8\")).hexdigest()"
   ]
  },
  {
   "cell_type": "code",
   "execution_count": 3,
   "metadata": {},
   "outputs": [
    {
     "data": {
      "text/plain": [
       "<__main__.Nodo at 0x1077e81f0>"
      ]
     },
     "execution_count": 3,
     "metadata": {},
     "output_type": "execute_result"
    }
   ],
   "source": [
    "class Nodo():\n",
    "    def __init__(self):\n",
    "\n",
    "        self.hash = None\n",
    "        self.is_leaf = False\n",
    "        self.left_child = None\n",
    "        self.right_child = None\n",
    "        self.parent = None\n",
    "        self.value = 0\n",
    "        self.next_leaf = None\n",
    "\n",
    "\n",
    "def insert(altura):\n",
    "    count = 0\n",
    "    value = 0\n",
    "    root = Nodo()\n",
    "    cola = []\n",
    "    cola.append(root)\n",
    "    hojas = []\n",
    "    # print(cola)\n",
    "    while count <= altura:\n",
    "        if count == altura:\n",
    "            for i in cola:\n",
    "                i.left_child = None\n",
    "                i.right_child = None\n",
    "                i.is_leaf = True\n",
    "                i.value = value\n",
    "                value += 1\n",
    "            for i in range(len(cola)):\n",
    "                if i < len(cola)-1:\n",
    "                    cola[i].next_leaf = cola[i+1]\n",
    "            for i in cola:\n",
    "                hojas.append(i)\n",
    "            break\n",
    "        else:\n",
    "            cola_aux = []\n",
    "            for i in cola:\n",
    "                i.left_child = Nodo()\n",
    "                i.right_child = Nodo()\n",
    "                i.left_child.parent = i\n",
    "                i.right_child.parent = i\n",
    "                i.is_leaf = False\n",
    "                i.value = value\n",
    "                value += 1\n",
    "                cola_aux.append(i.left_child)\n",
    "                cola_aux.append(i.right_child)\n",
    "            for i in range(len(cola)):\n",
    "                if i < len(cola)-1:\n",
    "                    cola[i].next_leaf = cola[i+1]\n",
    "            cola = cola_aux\n",
    "            # print(cola)\n",
    "        count += 1\n",
    "    return hojas\n",
    "\n",
    "hojas = insert(2)\n",
    "# print(root.left_child.parent.value)\n",
    "\n",
    "strings = ['hola','como','estas','?']\n",
    "\n",
    "\n",
    "\n",
    "def hashear(hojas,strings,altura,hash):\n",
    "    value = strings[-1]\n",
    "    for i in range(len(hojas)):\n",
    "        if i >= len(strings):\n",
    "            hojas[i].hash = hash(value)\n",
    "        else:\n",
    "            hojas[i].hash = hash(strings[i])\n",
    "\n",
    "    cola = []\n",
    "    for i in hojas:\n",
    "        cola.append(i.parent)\n",
    "    count = 0\n",
    "    while count <= altura-1:\n",
    "        if count == altura-1:\n",
    "            for i in cola:\n",
    "                # print('root',i)\n",
    "                i.hash = hash(i.left_child.hash + i.right_child.hash)\n",
    "            break\n",
    "        else:\n",
    "            cola_aux = []\n",
    "            for i in cola:\n",
    "                # print(i)\n",
    "                i.hash = hash(i.left_child.hash + i.right_child.hash)\n",
    "                # print(i.hash)\n",
    "                cola_aux.append(i.parent)\n",
    "            cola = cola_aux\n",
    "        count += 1\n",
    "    return hojas\n",
    "\n",
    "def get_root(hojas,altura):\n",
    "    count = 0\n",
    "    cola = [hojas[0]]\n",
    "    while count <= altura:\n",
    "        if count == altura:\n",
    "            # print(cola[0])\n",
    "            return cola[0]\n",
    "        else:\n",
    "            cola_aux = []\n",
    "            cola_aux.append(cola[0].parent)\n",
    "            cola = cola_aux\n",
    "        count += 1\n",
    "\n",
    "\n",
    "\n",
    "hojas = hashear(hojas,strings,2,hash_function)\n",
    "# print(hojas)\n",
    "# for i in hojas:\n",
    "#     print(i.hash,'- ',i.parent.hash)\n",
    "\n",
    "get_root(hojas,2)\n",
    "\n",
    "\n"
   ]
  },
  {
   "cell_type": "code",
   "execution_count": 88,
   "metadata": {},
   "outputs": [],
   "source": [
    "\n",
    "strings = ['hola','como','estas','?','soy','un','string']"
   ]
  },
  {
   "cell_type": "code",
   "execution_count": 18,
   "metadata": {},
   "outputs": [],
   "source": [
    "def get_altura(strings):\n",
    "    altura = 0\n",
    "    for i in range(len(strings)):\n",
    "        if 2**i >= len(strings):\n",
    "            altura = i\n",
    "            return altura\n",
    "        else:\n",
    "            pass"
   ]
  },
  {
   "cell_type": "code",
   "execution_count": 19,
   "metadata": {},
   "outputs": [
    {
     "data": {
      "text/plain": [
       "0"
      ]
     },
     "execution_count": 19,
     "metadata": {},
     "output_type": "execute_result"
    }
   ],
   "source": [
    "get_altura(strings)"
   ]
  },
  {
   "cell_type": "code",
   "execution_count": 138,
   "metadata": {},
   "outputs": [],
   "source": [
    "class Nodo():\n",
    "    def __init__(self):\n",
    "\n",
    "        self.hash = None\n",
    "        self.is_leaf = False\n",
    "        self.left_child = None\n",
    "        self.right_child = None\n",
    "        self.parent = None\n",
    "        self.value = 0\n",
    "        self.side = None\n",
    "        self.brother = None\n",
    "\n",
    "class MerkleTree:\n",
    "    def __init__(self, strings, hash):\n",
    "        self.strings = strings\n",
    "        self.hash = hash\n",
    "        self.hojas = None\n",
    "        self.altura = None\n",
    "    \n",
    "    def get_altura(self):\n",
    "        for i in range(len(self.strings)):\n",
    "            if 2**i >= len(self.strings):\n",
    "                self.altura = i\n",
    "                return self.altura\n",
    "            else:\n",
    "                pass\n",
    "\n",
    "\n",
    "    def hashear(self):\n",
    "        value = strings[-1]\n",
    "        # print(value)\n",
    "        for i in range(len(self.hojas)):\n",
    "            if i >= len(self.strings):\n",
    "                self.hojas[i].hash = self.hash(value)\n",
    "            else:\n",
    "                self.hojas[i].hash = self.hash(strings[i])\n",
    "            \n",
    "\n",
    "        cola = []\n",
    "        for i in self.hojas:\n",
    "            cola.append(i.parent)\n",
    "        count = 0\n",
    "        while count <= self.altura-1:\n",
    "            if count == self.altura-1:\n",
    "                for i in cola:\n",
    "                    # print('root',i)\n",
    "                    i.hash = hash(i.left_child.hash + i.right_child.hash)\n",
    "\n",
    "                break\n",
    "            else:\n",
    "                cola_aux = []\n",
    "                for i in cola:\n",
    "                    # print(i)\n",
    "                    i.hash = self.hash(i.left_child.hash + i.right_child.hash)\n",
    "                    # print(i.hash)\n",
    "                    cola_aux.append(i.parent)\n",
    "                cola = cola_aux\n",
    "            count += 1\n",
    "        # return self.hojas\n",
    "        \n",
    "    def insert(self):\n",
    "        count = 0\n",
    "        value = 0\n",
    "        root = Nodo()\n",
    "        cola = []\n",
    "        cola.append(root)\n",
    "        self.hojas = []\n",
    "        # print(cola)\n",
    "        while count <= self.altura:\n",
    "            if count == self.altura:\n",
    "                for i in cola:\n",
    "                    i.left_child = None\n",
    "                    i.right_child = None\n",
    "                    i.is_leaf = True\n",
    "                    i.value = value\n",
    "                    value += 1\n",
    "                for i in range(len(cola)):\n",
    "                    if i < len(cola)-1:\n",
    "                        cola[i].next_leaf = cola[i+1]\n",
    "                for i in cola:\n",
    "                    self.hojas.append(i)\n",
    "                break\n",
    "            else:\n",
    "                cola_aux = []\n",
    "                for i in cola:\n",
    "                    i.left_child = Nodo()\n",
    "                    i.right_child = Nodo()\n",
    "                    i.left_child.parent = i\n",
    "                    i.right_child.parent = i\n",
    "                    i.left_child.brother = i.right_child \n",
    "                    i.right_child.brother = i.left_child\n",
    "                    i.right_child.side = 'd'\n",
    "                    i.left_child.side = 'i'\n",
    "                    i.is_leaf = False\n",
    "                    i.value = value\n",
    "                    value += 1\n",
    "                    cola_aux.append(i.left_child)\n",
    "                    cola_aux.append(i.right_child)\n",
    "                for i in range(len(cola)):\n",
    "                    if i < len(cola)-1:\n",
    "                        cola[i].next_leaf = cola[i+1]\n",
    "                cola = cola_aux\n",
    "                # print(cola)\n",
    "            count += 1\n",
    "        \n",
    "\n",
    "    \n",
    "    def get_root(self):\n",
    "        count = 0\n",
    "        cola = [self.hojas[0]]\n",
    "        while count <= self.altura:\n",
    "            if count == self.altura:\n",
    "                # print(cola[0])\n",
    "                return cola[0]\n",
    "            else:\n",
    "                cola_aux = []\n",
    "                cola_aux.append(cola[0].parent)\n",
    "                cola = cola_aux\n",
    "            count += 1\n",
    "    \n",
    "    def get_proof_for(self,string):\n",
    "        lista_return = []\n",
    "        cola = []\n",
    "         \n",
    "        # print('hash buscado',self.hash(string))\n",
    "        for i in self.hojas:\n",
    "            # print(i)\n",
    "            # print('hash hoja',i.hash)\n",
    "            if self.hash(string) == i.hash:\n",
    "                cola.append(i)\n",
    "                lista_return.append((i,i.side))\n",
    "                lista_return.append((i.brother,i.brother.side))\n",
    "\n",
    "        count = 0\n",
    "        while count <= self.altura-1:\n",
    "            if count == self.altura-1:\n",
    "                break\n",
    "            else:\n",
    "                cola_aux = []\n",
    "                for i in cola:\n",
    "                    lista_return.append(( i.parent.brother,i.parent.brother.side))\n",
    "                    cola_aux.append(i.parent)\n",
    "                    cola = cola_aux\n",
    "            count += 1\n",
    "\n",
    "\n",
    "        \n",
    "        return lista_return\n",
    "    \n"
   ]
  },
  {
   "cell_type": "code",
   "execution_count": 139,
   "metadata": {},
   "outputs": [
    {
     "data": {
      "text/plain": [
       "3"
      ]
     },
     "execution_count": 139,
     "metadata": {},
     "output_type": "execute_result"
    }
   ],
   "source": [
    "arbol = MerkleTree(strings,hash_function)\n",
    "arbol.get_altura()"
   ]
  },
  {
   "cell_type": "code",
   "execution_count": 140,
   "metadata": {},
   "outputs": [],
   "source": [
    "arbol.insert()\n",
    "arbol.hashear()"
   ]
  },
  {
   "cell_type": "code",
   "execution_count": 141,
   "metadata": {},
   "outputs": [],
   "source": [
    "raiz = arbol.get_root()"
   ]
  },
  {
   "cell_type": "code",
   "execution_count": 142,
   "metadata": {},
   "outputs": [
    {
     "data": {
      "text/plain": [
       "[(<__main__.Nodo at 0x10c4cda60>, 'i'),\n",
       " (<__main__.Nodo at 0x10c4cd910>, 'd'),\n",
       " (<__main__.Nodo at 0x10c4cd400>, 'd'),\n",
       " (<__main__.Nodo at 0x10c4cd760>, 'd')]"
      ]
     },
     "execution_count": 142,
     "metadata": {},
     "output_type": "execute_result"
    }
   ],
   "source": [
    "arbol.get_proof_for('hola')"
   ]
  },
  {
   "cell_type": "code",
   "execution_count": 155,
   "metadata": {},
   "outputs": [],
   "source": [
    "def verify(raiz):\n",
    "    cola = []\n",
    "    cola.append(raiz)\n",
    "    count = 0\n",
    "\n",
    "    while cola:\n",
    "        cola_aux = []\n",
    "        for i in cola:\n",
    "            if i.right_child:\n",
    "                cola_aux.append(i.right_child)\n",
    "            if i.left_child:\n",
    "                cola_aux.append(i.left_child)\n",
    "        print(cola_aux)\n",
    "\n",
    "    \n",
    "    print(cola)"
   ]
  },
  {
   "cell_type": "code",
   "execution_count": 154,
   "metadata": {},
   "outputs": [
    {
     "ename": "KeyboardInterrupt",
     "evalue": "",
     "output_type": "error",
     "traceback": [
      "\u001b[0;31m---------------------------------------------------------------------------\u001b[0m",
      "\u001b[0;31mKeyboardInterrupt\u001b[0m                         Traceback (most recent call last)",
      "\u001b[1;32m/Users/ignaciabaeza/Desktop/Universidad/criptografia/Tareas-IIC3253/Tarea 1/Pregunta 3/main.ipynb Cell 13'\u001b[0m in \u001b[0;36m<cell line: 1>\u001b[0;34m()\u001b[0m\n\u001b[0;32m----> <a href='vscode-notebook-cell:/Users/ignaciabaeza/Desktop/Universidad/criptografia/Tareas-IIC3253/Tarea%201/Pregunta%203/main.ipynb#ch0000012?line=0'>1</a>\u001b[0m verify(raiz)\n",
      "\u001b[1;32m/Users/ignaciabaeza/Desktop/Universidad/criptografia/Tareas-IIC3253/Tarea 1/Pregunta 3/main.ipynb Cell 12'\u001b[0m in \u001b[0;36mverify\u001b[0;34m(raiz)\u001b[0m\n\u001b[1;32m      <a href='vscode-notebook-cell:/Users/ignaciabaeza/Desktop/Universidad/criptografia/Tareas-IIC3253/Tarea%201/Pregunta%203/main.ipynb#ch0000011?line=5'>6</a>\u001b[0m \u001b[39mwhile\u001b[39;00m cola:\n\u001b[1;32m      <a href='vscode-notebook-cell:/Users/ignaciabaeza/Desktop/Universidad/criptografia/Tareas-IIC3253/Tarea%201/Pregunta%203/main.ipynb#ch0000011?line=6'>7</a>\u001b[0m     cola_aux \u001b[39m=\u001b[39m []\n\u001b[0;32m----> <a href='vscode-notebook-cell:/Users/ignaciabaeza/Desktop/Universidad/criptografia/Tareas-IIC3253/Tarea%201/Pregunta%203/main.ipynb#ch0000011?line=7'>8</a>\u001b[0m     \u001b[39mfor\u001b[39;00m i \u001b[39min\u001b[39;00m cola:\n\u001b[1;32m      <a href='vscode-notebook-cell:/Users/ignaciabaeza/Desktop/Universidad/criptografia/Tareas-IIC3253/Tarea%201/Pregunta%203/main.ipynb#ch0000011?line=8'>9</a>\u001b[0m         \u001b[39mif\u001b[39;00m i\u001b[39m.\u001b[39mright_child:\n\u001b[1;32m     <a href='vscode-notebook-cell:/Users/ignaciabaeza/Desktop/Universidad/criptografia/Tareas-IIC3253/Tarea%201/Pregunta%203/main.ipynb#ch0000011?line=9'>10</a>\u001b[0m             cola_aux\u001b[39m.\u001b[39mappend(i\u001b[39m.\u001b[39mright_child)\n",
      "\u001b[0;31mKeyboardInterrupt\u001b[0m: "
     ]
    }
   ],
   "source": [
    "verify(raiz)"
   ]
  },
  {
   "cell_type": "code",
   "execution_count": null,
   "metadata": {},
   "outputs": [],
   "source": []
  }
 ],
 "metadata": {
  "interpreter": {
   "hash": "aee8b7b246df8f9039afb4144a1f6fd8d2ca17a180786b69acc140d282b71a49"
  },
  "kernelspec": {
   "display_name": "Python 3.10.4 64-bit",
   "language": "python",
   "name": "python3"
  },
  "language_info": {
   "codemirror_mode": {
    "name": "ipython",
    "version": 3
   },
   "file_extension": ".py",
   "mimetype": "text/x-python",
   "name": "python",
   "nbconvert_exporter": "python",
   "pygments_lexer": "ipython3",
   "version": "3.8.9"
  },
  "orig_nbformat": 4
 },
 "nbformat": 4,
 "nbformat_minor": 2
}
