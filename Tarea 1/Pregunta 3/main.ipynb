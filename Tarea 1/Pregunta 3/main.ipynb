{
 "cells": [
  {
   "cell_type": "code",
   "execution_count": 1,
   "metadata": {},
   "outputs": [],
   "source": [
    "\n",
    "from collections import deque\n",
    "\n",
    "import hashlib"
   ]
  },
  {
   "cell_type": "code",
   "execution_count": 2,
   "metadata": {},
   "outputs": [],
   "source": [
    "def hash_function(value):\n",
    "    return hashlib.sha256(value.encode(\"utf-8\")).hexdigest()"
   ]
  },
  {
   "cell_type": "code",
   "execution_count": 3,
   "metadata": {},
   "outputs": [
    {
     "data": {
      "text/plain": [
       "<__main__.Nodo at 0x109420b80>"
      ]
     },
     "execution_count": 3,
     "metadata": {},
     "output_type": "execute_result"
    }
   ],
   "source": [
    "class Nodo():\n",
    "    def __init__(self):\n",
    "\n",
    "        self.hash = None\n",
    "        self.is_leaf = False\n",
    "        self.left_child = None\n",
    "        self.right_child = None\n",
    "        self.parent = None\n",
    "        self.value = 0\n",
    "        self.next_leaf = None\n",
    "\n",
    "\n",
    "def insert(altura):\n",
    "    count = 0\n",
    "    value = 0\n",
    "    root = Nodo()\n",
    "    cola = []\n",
    "    cola.append(root)\n",
    "    hojas = []\n",
    "    # print(cola)\n",
    "    while count <= altura:\n",
    "        if count == altura:\n",
    "            for i in cola:\n",
    "                i.left_child = None\n",
    "                i.right_child = None\n",
    "                i.is_leaf = True\n",
    "                i.value = value\n",
    "                value += 1\n",
    "            for i in range(len(cola)):\n",
    "                if i < len(cola)-1:\n",
    "                    cola[i].next_leaf = cola[i+1]\n",
    "            for i in cola:\n",
    "                hojas.append(i)\n",
    "            break\n",
    "        else:\n",
    "            cola_aux = []\n",
    "            for i in cola:\n",
    "                i.left_child = Nodo()\n",
    "                i.right_child = Nodo()\n",
    "                i.left_child.parent = i\n",
    "                i.right_child.parent = i\n",
    "                i.is_leaf = False\n",
    "                i.value = value\n",
    "                value += 1\n",
    "                cola_aux.append(i.left_child)\n",
    "                cola_aux.append(i.right_child)\n",
    "            for i in range(len(cola)):\n",
    "                if i < len(cola)-1:\n",
    "                    cola[i].next_leaf = cola[i+1]\n",
    "            cola = cola_aux\n",
    "            # print(cola)\n",
    "        count += 1\n",
    "    return hojas\n",
    "\n",
    "hojas = insert(2)\n",
    "# print(root.left_child.parent.value)\n",
    "\n",
    "strings = ['hola','como','estas','?']\n",
    "\n",
    "\n",
    "\n",
    "def hashear(hojas,strings,altura,hash):\n",
    "    value = strings[-1]\n",
    "    for i in range(len(hojas)):\n",
    "        if i >= len(strings):\n",
    "            hojas[i].hash = hash(value)\n",
    "        else:\n",
    "            hojas[i].hash = hash(strings[i])\n",
    "\n",
    "    cola = []\n",
    "    for i in hojas:\n",
    "        cola.append(i.parent)\n",
    "    count = 0\n",
    "    while count <= altura-1:\n",
    "        if count == altura-1:\n",
    "            for i in cola:\n",
    "                # print('root',i)\n",
    "                i.hash = hash(i.left_child.hash + i.right_child.hash)\n",
    "            break\n",
    "        else:\n",
    "            cola_aux = []\n",
    "            for i in cola:\n",
    "                # print(i)\n",
    "                i.hash = hash(i.left_child.hash + i.right_child.hash)\n",
    "                # print(i.hash)\n",
    "                cola_aux.append(i.parent)\n",
    "            cola = cola_aux\n",
    "        count += 1\n",
    "    return hojas\n",
    "\n",
    "def get_root(hojas,altura):\n",
    "    count = 0\n",
    "    cola = [hojas[0]]\n",
    "    while count <= altura:\n",
    "        if count == altura:\n",
    "            # print(cola[0])\n",
    "            return cola[0]\n",
    "        else:\n",
    "            cola_aux = []\n",
    "            cola_aux.append(cola[0].parent)\n",
    "            cola = cola_aux\n",
    "        count += 1\n",
    "\n",
    "\n",
    "\n",
    "hojas = hashear(hojas,strings,2,hash_function)\n",
    "# print(hojas)\n",
    "# for i in hojas:\n",
    "#     print(i.hash,'- ',i.parent.hash)\n",
    "\n",
    "get_root(hojas,2)\n",
    "\n",
    "\n"
   ]
  },
  {
   "cell_type": "code",
   "execution_count": 4,
   "metadata": {},
   "outputs": [],
   "source": [
    "\n",
    "strings = ['hola','como','estas','?','soy','un','string']"
   ]
  },
  {
   "cell_type": "code",
   "execution_count": 5,
   "metadata": {},
   "outputs": [],
   "source": [
    "def get_altura(strings):\n",
    "    altura = 0\n",
    "    for i in range(len(strings)):\n",
    "        if 2**i >= len(strings):\n",
    "            altura = i\n",
    "            return altura\n",
    "        else:\n",
    "            pass"
   ]
  },
  {
   "cell_type": "code",
   "execution_count": 6,
   "metadata": {},
   "outputs": [
    {
     "data": {
      "text/plain": [
       "3"
      ]
     },
     "execution_count": 6,
     "metadata": {},
     "output_type": "execute_result"
    }
   ],
   "source": [
    "get_altura(strings)"
   ]
  },
  {
   "cell_type": "code",
   "execution_count": 49,
   "metadata": {},
   "outputs": [],
   "source": [
    "class Nodo():\n",
    "    def __init__(self):\n",
    "\n",
    "        self.hash = None\n",
    "        self.is_leaf = False\n",
    "        self.left_child = None\n",
    "        self.right_child = None\n",
    "        self.parent = None\n",
    "        self.value = 0\n",
    "        self.side = None\n",
    "        self.brother = None\n",
    "\n",
    "class MerkleTree:\n",
    "    def __init__(self, strings, hash):\n",
    "        self.strings = strings\n",
    "        self.hash = hash\n",
    "        self.hojas = None\n",
    "        self.altura = None\n",
    "    \n",
    "    def get_altura(self):\n",
    "        for i in range(len(self.strings)):\n",
    "            if 2**i >= len(self.strings):\n",
    "                self.altura = i\n",
    "                return self.altura\n",
    "            else:\n",
    "                pass\n",
    "\n",
    "\n",
    "    def hashear(self):\n",
    "        value = strings[-1]\n",
    "        # print(value)\n",
    "        for i in range(len(self.hojas)):\n",
    "            if i >= len(self.strings):\n",
    "                self.hojas[i].hash = self.hash(value)\n",
    "            else:\n",
    "                self.hojas[i].hash = self.hash(strings[i])\n",
    "            \n",
    "\n",
    "        cola = []\n",
    "        for i in self.hojas:\n",
    "            cola.append(i.parent)\n",
    "        count = 0\n",
    "        while count <= self.altura-1:\n",
    "            if count == self.altura-1:\n",
    "                for i in cola:\n",
    "                    # print('root',i)\n",
    "                    i.hash = hash(i.left_child.hash + i.right_child.hash)\n",
    "\n",
    "                break\n",
    "            else:\n",
    "                cola_aux = []\n",
    "                for i in cola:\n",
    "                    # print(i)\n",
    "                    i.hash = self.hash(i.left_child.hash + i.right_child.hash)\n",
    "                    # print(i.hash)\n",
    "                    cola_aux.append(i.parent)\n",
    "                cola = cola_aux\n",
    "            count += 1\n",
    "        # return self.hojas\n",
    "        \n",
    "    def insert(self):\n",
    "        count = 0\n",
    "        value = 0\n",
    "        root = Nodo()\n",
    "        cola = []\n",
    "        cola.append(root)\n",
    "        self.hojas = []\n",
    "        print(cola)\n",
    "        while count <= self.altura:\n",
    "            if count == self.altura:\n",
    "                for i in cola:\n",
    "                    i.left_child = None\n",
    "                    i.right_child = None\n",
    "                    i.is_leaf = True\n",
    "                    i.value = value\n",
    "                    value += 1\n",
    "                for i in range(len(cola)):\n",
    "                    if i < len(cola)-1:\n",
    "                        cola[i].next_leaf = cola[i+1]\n",
    "                for i in cola:\n",
    "                    self.hojas.append(i)\n",
    "                break\n",
    "            else:\n",
    "                cola_aux = []\n",
    "                for i in cola:\n",
    "                    i.left_child = Nodo()\n",
    "                    i.right_child = Nodo()\n",
    "                    i.left_child.parent = i\n",
    "                    i.right_child.parent = i\n",
    "                    i.left_child.brother = i.right_child \n",
    "                    i.right_child.brother = i.left_child\n",
    "                    i.right_child.side = 'd'\n",
    "                    i.left_child.side = 'i'\n",
    "                    i.is_leaf = False\n",
    "                    i.value = value\n",
    "                    value += 1\n",
    "                    cola_aux.append(i.left_child)\n",
    "                    cola_aux.append(i.right_child)\n",
    "                for i in range(len(cola)):\n",
    "                    if i < len(cola)-1:\n",
    "                        cola[i].next_leaf = cola[i+1]\n",
    "                cola = cola_aux\n",
    "                print(cola)\n",
    "            count += 1\n",
    "        \n",
    "\n",
    "    \n",
    "    def get_root(self):\n",
    "        count = 0\n",
    "        cola = [self.hojas[0]]\n",
    "        while count <= self.altura:\n",
    "            if count == self.altura:\n",
    "                # print(cola[0])\n",
    "                return cola[0]\n",
    "            else:\n",
    "                cola_aux = []\n",
    "                cola_aux.append(cola[0].parent)\n",
    "                cola = cola_aux\n",
    "            count += 1\n",
    "    \n",
    "    def get_proof_for(self,string):\n",
    "        lista_return = []\n",
    "        cola = []\n",
    "         \n",
    "        # print('hash buscado',self.hash(string))\n",
    "        for i in self.hojas:\n",
    "            # print(i)\n",
    "            # print('hash hoja',i.hash)\n",
    "            if self.hash(string) == i.hash:\n",
    "                cola.append(i)\n",
    "                lista_return.append((i,i.side))\n",
    "                lista_return.append((i.brother,i.brother.side))\n",
    "\n",
    "        count = 0\n",
    "        while count <= self.altura-1:\n",
    "            if count == self.altura-1:\n",
    "                break\n",
    "            else:\n",
    "                cola_aux = []\n",
    "                for i in cola:\n",
    "                    lista_return.append(( i.parent.brother,i.parent.brother.side))\n",
    "                    cola_aux.append(i.parent)\n",
    "                    cola = cola_aux\n",
    "            count += 1\n",
    "\n",
    "\n",
    "        \n",
    "        return lista_return\n",
    "    \n"
   ]
  },
  {
   "cell_type": "code",
   "execution_count": 50,
   "metadata": {},
   "outputs": [
    {
     "data": {
      "text/plain": [
       "3"
      ]
     },
     "execution_count": 50,
     "metadata": {},
     "output_type": "execute_result"
    }
   ],
   "source": [
    "arbol = MerkleTree(strings,hash_function)\n",
    "arbol.get_altura()"
   ]
  },
  {
   "cell_type": "code",
   "execution_count": 51,
   "metadata": {},
   "outputs": [
    {
     "name": "stdout",
     "output_type": "stream",
     "text": [
      "[<__main__.Nodo object at 0x109787dc0>]\n",
      "[<__main__.Nodo object at 0x10942eca0>, <__main__.Nodo object at 0x10942e850>]\n",
      "[<__main__.Nodo object at 0x10942efa0>, <__main__.Nodo object at 0x10942edc0>, <__main__.Nodo object at 0x10942e8e0>, <__main__.Nodo object at 0x10942eb80>]\n",
      "[<__main__.Nodo object at 0x10ab29490>, <__main__.Nodo object at 0x10ab29af0>, <__main__.Nodo object at 0x10ab29850>, <__main__.Nodo object at 0x10ab29610>, <__main__.Nodo object at 0x10ab293d0>, <__main__.Nodo object at 0x10ab296a0>, <__main__.Nodo object at 0x10ab29370>, <__main__.Nodo object at 0x10ab29910>]\n"
     ]
    }
   ],
   "source": [
    "arbol.insert()\n",
    "arbol.hashear()"
   ]
  },
  {
   "cell_type": "code",
   "execution_count": 52,
   "metadata": {},
   "outputs": [],
   "source": [
    "raiz = arbol.get_root()"
   ]
  },
  {
   "cell_type": "code",
   "execution_count": 69,
   "metadata": {},
   "outputs": [],
   "source": [
    "proof = arbol.get_proof_for('hola')"
   ]
  },
  {
   "cell_type": "code",
   "execution_count": 70,
   "metadata": {},
   "outputs": [],
   "source": [
    "def verify(raiz,string,hash,proof):\n",
    "    cola = []\n",
    "    cola_return = []\n",
    "    cola.append(raiz)\n",
    "    count = -1\n",
    "\n",
    "    while cola:\n",
    "        cola_aux = []\n",
    "        for i in cola:\n",
    "            if i.right_child:\n",
    "                cola_aux.append(i.right_child)\n",
    "            if i.left_child:\n",
    "                cola_aux.append(i.left_child)\n",
    "        # print(cola_aux)\n",
    "        cola_return.append([cola_aux])\n",
    "        cola = cola_aux\n",
    "        count += 1\n",
    "    cola_return = cola_return[-2][0][::-1]\n",
    "    # print(cola_return)\n",
    "\n",
    "# buscar prueba\n",
    "\n",
    "    lista_return = []\n",
    "    cola_proof = []\n",
    "        \n",
    "    # print('hash buscado',self.hash(string))\n",
    "    for i in cola_return:\n",
    "\n",
    "        if hash(string) == i.hash:\n",
    "            # print(i)\n",
    "            # print('hash hoja',i.hash)\n",
    "            cola_proof.append(i)\n",
    "            lista_return.append((i,i.side))\n",
    "            lista_return.append((i.brother,i.brother.side))\n",
    "    # print('cola proof',cola_proof)\n",
    "    counter = 0\n",
    "    while counter <= count-1:\n",
    "        if counter == count-1:\n",
    "            break\n",
    "        else:\n",
    "            cola_aux = []\n",
    "            for i in cola_proof:\n",
    "                lista_return.append(( i.parent.brother,i.parent.brother.side))\n",
    "                cola_aux.append(i.parent)\n",
    "                cola_proof = cola_aux\n",
    "        counter += 1\n",
    "\n",
    "\n",
    "\n",
    "    print(lista_return)\n",
    "    if proof == lista_return:\n",
    "        return True\n",
    "    else:\n",
    "        return False\n",
    "    \n",
    "    "
   ]
  },
  {
   "cell_type": "code",
   "execution_count": 72,
   "metadata": {},
   "outputs": [
    {
     "name": "stdout",
     "output_type": "stream",
     "text": [
      "[(<__main__.Nodo object at 0x10ab29490>, 'i'), (<__main__.Nodo object at 0x10ab29af0>, 'd'), (<__main__.Nodo object at 0x10942edc0>, 'd'), (<__main__.Nodo object at 0x10942e850>, 'd')]\n"
     ]
    },
    {
     "data": {
      "text/plain": [
       "True"
      ]
     },
     "execution_count": 72,
     "metadata": {},
     "output_type": "execute_result"
    }
   ],
   "source": [
    "verify(raiz,'hola',hash_function,proof)"
   ]
  },
  {
   "cell_type": "code",
   "execution_count": null,
   "metadata": {},
   "outputs": [],
   "source": []
  }
 ],
 "metadata": {
  "interpreter": {
   "hash": "aee8b7b246df8f9039afb4144a1f6fd8d2ca17a180786b69acc140d282b71a49"
  },
  "kernelspec": {
   "display_name": "Python 3.10.4 64-bit",
   "language": "python",
   "name": "python3"
  },
  "language_info": {
   "codemirror_mode": {
    "name": "ipython",
    "version": 3
   },
   "file_extension": ".py",
   "mimetype": "text/x-python",
   "name": "python",
   "nbconvert_exporter": "python",
   "pygments_lexer": "ipython3",
   "version": "3.8.9"
  },
  "orig_nbformat": 4
 },
 "nbformat": 4,
 "nbformat_minor": 2
}
