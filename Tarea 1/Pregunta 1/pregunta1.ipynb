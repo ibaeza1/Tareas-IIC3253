{
 "cells": [
  {
   "cell_type": "code",
   "execution_count": 1,
   "metadata": {},
   "outputs": [],
   "source": [
    "DICT = {}"
   ]
  },
  {
   "cell_type": "code",
   "execution_count": 2,
   "metadata": {},
   "outputs": [],
   "source": [
    "def abs_distance(string, frequencies):\n",
    "    return sum([abs(frequencies[c] - (string.count(c) / len(string))*100) for c in frequencies])"
   ]
  },
  {
   "cell_type": "code",
   "execution_count": 3,
   "metadata": {},
   "outputs": [],
   "source": [
    "import string\n",
    "def prob_char(char,freq):\n",
    "    return freq[char]\n",
    "\n",
    "\n",
    "alphabet = (\n",
    "    list(string.ascii_uppercase) +\n",
    "    [str(n) for n in range(10)] +\n",
    "    [\",\",\"\\n\",\".\",\":\",\";\",\"-\",\"(\",\")\",\"'\",\"\\\"\",\"|\", \" \"]\n",
    ")\n",
    "\n",
    "\n"
   ]
  },
  {
   "cell_type": "code",
   "execution_count": 5,
   "metadata": {},
   "outputs": [],
   "source": [
    "def most_likely_char(pos,cypher,l_key,freq):\n",
    "    to_decrypt = [\n",
    "        cypher[i*l_key+pos]\n",
    "        for i in range(len(cypher)//l_key)\n",
    "    ]\n",
    "\n",
    "    best_char = 'A'\n",
    "    best_distance = len(alphabet)\n",
    "\n",
    "    for candidate in alphabet:\n",
    "        char_count = {c:0 for c in alphabet}\n",
    "        for c in to_decrypt:\n",
    "            n_c = alphabet.index(c)\n",
    "            n_candidate = alphabet.index(candidate)\n",
    "            n=(n_c - n_candidate)%len(alphabet)\n",
    "            char_count[alphabet[n]] += 1\n",
    "\n",
    "        diff = 0\n",
    "\n",
    "        for c in alphabet:\n",
    "            prob = char_count[c] /len(to_decrypt)\n",
    "            diff += abs(prob_char(c,freq)-prob)\n",
    "\n",
    "        if diff < best_distance:\n",
    "            best_char = candidate\n",
    "            best_distance = diff\n",
    "    return best_char\n",
    "\n",
    "\n",
    "\n",
    "\n",
    "\n",
    "\n",
    "def break_rp(cypher_text,freq,distance):\n",
    "    texts = []\n",
    "    keys = []\n",
    "    distances = []\n",
    "\n",
    "    for key_len in range(1,int(len(cypher_text)/50)):\n",
    "        probable_key = \"\".join(\n",
    "            [\n",
    "                most_likely_char(i,cypher_text,key_len,freq)\n",
    "                for i in range(key_len)\n",
    "            ]\n",
    "        )\n",
    "        plain_text=\"\"\n",
    "        keys.append(probable_key)\n",
    "        for i in range(len(cypher_text)):\n",
    "            n_c = alphabet.index(cypher_text[i])\n",
    "            n_k = alphabet.index(\n",
    "                probable_key[i%key_len]\n",
    "            )\n",
    "            plain_text += alphabet[(n_c - n_k) % len(alphabet)]\n",
    "        texts.append(plain_text)\n",
    "    \n",
    "    for text in texts:\n",
    "        distance = abs_distance(text,freq)\n",
    "        distances.append(distance)\n",
    "    \n",
    "    final_key = keys[distances.index(min(distances))]\n",
    "    return final_key\n",
    "\n",
    "\n"
   ]
  },
  {
   "cell_type": "code",
   "execution_count": null,
   "metadata": {},
   "outputs": [],
   "source": []
  }
 ],
 "metadata": {
  "interpreter": {
   "hash": "965261a77c2f7ab172ef3e7bc9954d0514f9672fbea1bc5208e908aa5a481c44"
  },
  "kernelspec": {
   "display_name": "Python 3.9.11 64-bit ('3.9.11')",
   "language": "python",
   "name": "python3"
  },
  "language_info": {
   "codemirror_mode": {
    "name": "ipython",
    "version": 3
   },
   "file_extension": ".py",
   "mimetype": "text/x-python",
   "name": "python",
   "nbconvert_exporter": "python",
   "pygments_lexer": "ipython3",
   "version": "3.9.11"
  },
  "orig_nbformat": 4
 },
 "nbformat": 4,
 "nbformat_minor": 2
}
