{
 "cells": [
  {
   "cell_type": "code",
   "execution_count": 2,
   "metadata": {},
   "outputs": [],
   "source": [
    "from Crypto.Cipher import AES\n",
    "\n",
    "def AES_128(key: bytearray, message: bytearray) -> bytearray:\n",
    "    a = AES.new(key, AES.MODE_ECB)\n",
    "    return bytearray(a.encrypt(message))"
   ]
  },
  {
   "cell_type": "code",
   "execution_count": 205,
   "metadata": {},
   "outputs": [],
   "source": [
    "def pad(message,l_block):\n",
    "    message_len = len(message)\n",
    "    lista_numeros = []\n",
    "    agregar = 0\n",
    "    for i in range(0,message_len,l_block):\n",
    "        lista_numeros.append([message[i:i + l_block]])\n",
    "    if len(lista_numeros)!=0:\n",
    "        largo_ultimo = len(lista_numeros[-1][0])\n",
    "        if largo_ultimo < l_block:\n",
    "            agregar = l_block - largo_ultimo \n",
    "        print(agregar)\n",
    "        if agregar != 0:\n",
    "            message += int(1).to_bytes(agregar,'little')\n",
    "    \n",
    "    result = int(message_len).to_bytes(l_block,'big')\n",
    "    message += result\n",
    "    return message"
   ]
  },
  {
   "cell_type": "code",
   "execution_count": 207,
   "metadata": {},
   "outputs": [],
   "source": [
    "def davies_meyer(encrypt,l_key,l_message):\n",
    "    def compression(message):\n",
    "        key = message[0:l_key]\n",
    "        ms = message[l_key:l_key+l_message]\n",
    "        hash_0 = encrypt(key,ms)\n",
    "        hash_1 = int.from_bytes(hash_0, byteorder=\"big\") ^ int.from_bytes(ms, byteorder=\"big\")\n",
    "\n",
    "        return hash_1.to_bytes(max(len(hash_0), len(ms)), byteorder=\"big\")\n",
    "    return compression"
   ]
  },
  {
   "cell_type": "code",
   "execution_count": 208,
   "metadata": {},
   "outputs": [
    {
     "data": {
      "text/plain": [
       "b'Kz\\xce\\xba\\xe9\"6\"|\\xbb\\x8cO\\x84\\xb5\\x8f;'"
      ]
     },
     "execution_count": 208,
     "metadata": {},
     "output_type": "execute_result"
    }
   ],
   "source": [
    "compresion = davies_meyer(AES_128, 16, 16)\n",
    "compresion(bytearray(b'123456789012345601234567890123456'))"
   ]
  },
  {
   "cell_type": "code",
   "execution_count": 209,
   "metadata": {},
   "outputs": [],
   "source": [
    "def  merkle_damgard(iv, compresion, l_block):\n",
    "    def hash(message):\n",
    "        lista_numeros = []\n",
    "        mesg_pad = pad(message,l_block)\n",
    "        message_len = len(mesg_pad)\n",
    "        \n",
    "        for i in range(0,message_len,l_block):\n",
    "            lista_numeros.append(bytearray(mesg_pad[i:i + l_block]))\n",
    "\n",
    "        byte_inicial = lista_numeros[0] + iv\n",
    "        hash_inicial = compresion(byte_inicial)\n",
    "        for i in range(1,len(lista_numeros)):\n",
    "            byte_aux = lista_numeros[i] + hash_inicial\n",
    "            hash_inicial = compresion(byte_aux)\n",
    "            \n",
    "        return hash_inicial\n",
    "    \n",
    "    return hash"
   ]
  },
  {
   "cell_type": "code",
   "execution_count": 212,
   "metadata": {},
   "outputs": [
    {
     "name": "stdout",
     "output_type": "stream",
     "text": [
      "4\n",
      "4\n",
      "0\n",
      "b'\\xe9\\xe8\\xac\\x12\\\\\\xf2\\xc8\\x16\\xceOV\\xc5Y.T\\xea'\n",
      "b'\\xb6\\xfb\\xc6a\\x12\\xae\\x95\\x1f\\xda\\xc5\\x13\\xde\\x06|Q\\x96'\n",
      "b'p\\xca \\xd8\\x9c\\xeb\\xe6\\xb1\\xce\\xcf\\x03\\xb2\\x9e\\x93\\x19\\xbc'\n",
      "b'\\xc5\\xec\\xcdd\\xa4(R*\\xf0L*QtL\\xda\\x81'\n"
     ]
    }
   ],
   "source": [
    "if __name__ == \"__main__\":\n",
    "    compresion = davies_meyer(AES_128, 16, 16)\n",
    "    hash = merkle_damgard(bytearray(b'1234567890123456'), compresion, 16)\n",
    "\n",
    "    s1 = bytearray(b'Este es un mensaje de prueba para la tarea 2')\n",
    "    s2 = bytearray(b'Este es un mensaje de Prueba para la tarea 2')\n",
    "    s4 = bytearray(b'')\n",
    "    s3 = bytearray(b'Un mensaje corto')\n",
    "\n",
    "\n",
    "    h1 = hash(s1)\n",
    "    h2 = hash(s2)\n",
    "    h4 = hash(s4)\n",
    "    h3 = hash(s3)\n",
    "   \n",
    "\n",
    "    print(h1)\n",
    "    print(h2)\n",
    "    print(h4)\n",
    "    print(h3)\n",
    "    "
   ]
  },
  {
   "cell_type": "code",
   "execution_count": 3,
   "metadata": {},
   "outputs": [],
   "source": [
    "class RSASender:\n",
    "    def ___init__(self, public_key):\n",
    "        self.public_key = public_key\n",
    "\n",
    "    def encrypt(self,message):\n",
    "        len_e = self.public_key[0:4]\n",
    "        len_e = int.from_bytes(len_e, 'big')"
   ]
  },
  {
   "cell_type": "code",
   "execution_count": null,
   "metadata": {},
   "outputs": [],
   "source": []
  }
 ],
 "metadata": {
  "interpreter": {
   "hash": "4cff3abf1678755e0069fd79299a535fe1940bcd71a6b01d9f4386710b2b163f"
  },
  "kernelspec": {
   "display_name": "Python 3.9.13 64-bit",
   "language": "python",
   "name": "python3"
  },
  "language_info": {
   "codemirror_mode": {
    "name": "ipython",
    "version": 3
   },
   "file_extension": ".py",
   "mimetype": "text/x-python",
   "name": "python",
   "nbconvert_exporter": "python",
   "pygments_lexer": "ipython3",
   "version": "3.9.13"
  },
  "orig_nbformat": 4
 },
 "nbformat": 4,
 "nbformat_minor": 2
}
